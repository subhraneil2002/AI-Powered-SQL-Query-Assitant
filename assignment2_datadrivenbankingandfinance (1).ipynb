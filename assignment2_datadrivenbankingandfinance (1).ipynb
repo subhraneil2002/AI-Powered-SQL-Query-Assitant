
  {
   "cell_type": "markdown",
   "id": "40054849",
   "metadata": {},
   "source": [
    "We implemented a Python-based SQL Query Assistant that translates natural language questions into valid SQL queries using Cohere's AI model and executes these queries on a PostgreSQL database."
   ]
  },
  {
   "cell_type": "markdown",
   "id": "5e5b9173",
   "metadata": {},
   "source": [
    "## 1. Creating the connection with the database"
   ]
  },
  {
   "cell_type": "code",
   "execution_count": 11,
   "id": "6b286dac",
   "metadata": {},
   "outputs": [],
   "source": [
    "import psycopg2\n",
    "import csv\n",
    "\n",
    "# Connect to the PostgreSQL database\n",
    "conn = psycopg2.connect(\n",
    "    database=\"bankingandfinance\",\n",
    "    user=\"postgres\",\n",
    "    host=\"localhost\",\n",
    "    password=\"root@1234\",\n",
    "    port=\"5433\"\n",
    ")\n",
    "cursor = conn.cursor()"
   ]
  },
  {
   "cell_type": "markdown",
   "id": "392e0052",
   "metadata": {},
   "source": [
    "## 2. Manually created the table in Postgres\n",
    "\n",
    "CREATE TABLE transactions (\n",
    "\n",
    "    date DATE NOT NULL,\n",
    "    description TEXT NOT NULL,\n",
    "    amount DECIMAL(10, 2) NOT NULL,\n",
    "    type CHAR(2) NOT NULL CHECK (type IN ('DR', 'CR'))    \n",
    ");\n"
   ]
  },
  {
   "cell_type": "markdown",
   "id": "2e63f2b7",
   "metadata": {},
   "source": [
    "## 3. Entered the transactional data"
   ]
  },
  {
   "cell_type": "code",
   "execution_count": 2,
   "id": "81436ff4",
   "metadata": {},
   "outputs": [],
   "source": [
    "# Open CSV file and import data\n",
    "with open('transactions.csv', 'r') as file:\n",
    "    reader = csv.DictReader(file)\n",
    "    for row in reader:\n",
    "        cursor.execute(\"\"\"\n",
    "            INSERT INTO transactions (date, description, amount, type) \n",
    "            VALUES (%s, %s, %s, %s)\n",
    "        \"\"\", (row['date'], row['description'], row['amount'], row['type']))\n",
    "\n",
    "# Commit the changes and close the connection\n",
    "conn.commit()"
   ]
  },
  {
   "cell_type": "markdown",
   "id": "891a80a7",
   "metadata": {},
   "source": [
    "## 4. Checking the entered records"
   ]
  },
  {
   "cell_type": "code",
   "execution_count": 3,
   "id": "44f58e0a",
   "metadata": {
    "scrolled": false
   },
   "outputs": [
    {
     "name": "stdout",
     "output_type": "stream",
     "text": [
      "(datetime.date(2024, 11, 21), 'UPI/q466324853@ybl/UPI/Yes Bank Ltd/469223553911/ICI246cd7b99fe 2498d9c45a988b3380983/', Decimal('150.00'), 'DR')\n",
      "(datetime.date(2024, 11, 21), 'UPI/paytm-77624030@/UPI/Yes Bank Ltd/432605269326/ICI25d53e1d4e\\n2b4f7888da6be5c7787edd/', Decimal('159.00'), 'DR')\n",
      "(datetime.date(2024, 11, 21), 'UPI/gpay-1118655460/UPI/AXIS BANK/432618651380/ICI5a36349e\\n6bab47c2912229da07bab34d/', Decimal('20.00'), 'DR')\n",
      "(datetime.date(2024, 11, 21), 'UPI/q477356676@ybl/UPI/Yes Bank Ltd/432688649078/ICI9b8443fbcf2\\n64ae995745f04c8d238b3/', Decimal('104.00'), 'DR')\n",
      "(datetime.date(2024, 11, 21), 'UPI/vyapar.17011999/UPI/HDFC BANK LTD/469282353558/ICI7a522a8f80\\n1c4c3db6485091139a2b4d/', Decimal('15.00'), 'DR')\n",
      "(datetime.date(2024, 11, 21), 'UPI/duttaayush2002@/UPI/HDFC BANK LTD/432606345416/HDF69a634ab\\n25b14cb28ce3d226d166834b', Decimal('345.10'), 'CR')\n",
      "(datetime.date(2024, 11, 21), 'UPI/upamamukherjee2/UPI/Indian Bank/469289910202/AXI0f7d5e742\\nba146cca72de0b948db4010', Decimal('261.00'), 'CR')\n",
      "(datetime.date(2024, 11, 21), 'UPI/vibhoorbhatnaga/UPI/INDUSIN D BANK/432644084808/SBIca4ef1b0\\nfdde45c4bf5093254fe2e3b9', Decimal('93.60'), 'CR')\n",
      "(datetime.date(2024, 11, 21), 'UPI/upamamukherjee2/UPI/Indian Bank/469228415093/AXIa5b22b75\\n62d14f7d9249f9ef7beb82d8', Decimal('116.10'), 'CR')\n",
      "(datetime.date(2024, 11, 21), 'UPI/zomato-order@pt/Zomato Payment/Yes Bank Ltd/432637634169/PYTM41121803 220434653205/', Decimal('553.50'), 'DR')\n"
     ]
    }
   ],
   "source": [
    "cursor.execute(\"SELECT * FROM transactions LIMIT 10;\")\n",
    "for row in cursor.fetchall():\n",
    "    print(row)"
   ]
  },
  {
   "cell_type": "markdown",
   "id": "92dc2b44",
   "metadata": {},
   "source": [
    "## 5. LLM to SQL Query\n",
    "\n",
    "Using Cohere API to convert natural text to SQL Query and querying the database to extract the required data "
   ]
  },
  {
   "cell_type": "code",
   "execution_count": 4,
   "id": "c8637425",
   "metadata": {},
   "outputs": [],
   "source": [
    "import psycopg2\n",
    "import cohere\n",
    "\n",
    "# Set your Cohere API key\n",
    "cohere_api_key = 'B47EBA6dMg5u1Zm5hNvctq3PKTq7FfRHKFUVR5pD'\n",
    "co = cohere.Client(cohere_api_key)\n",
    "\n",
    "# Function to generate SQL query from user question\n",
    "def generate_sql_query(question):\n",
    "    prompt = (\n",
    "        f\"Translate the following question into a valid SQL query for a PostgreSQL database. \"\n",
    "        f\"Assume the database is transactional, and there is a table named 'transactions' with columns: \"\n",
    "        f\"'date' (DATE), 'description' (TEXT), 'amount' (DECIMAL), 'type' (CHAR(2) with values 'DR' for debited and 'CR' for credited). \"\n",
    "        f\"Provide only the SQL query and stop the response immediately after the semicolon (';'). \"\n",
    "        f\"No explanations, no code blocks, just the plain SQL query:\\n\\n\"\n",
    "        f\"Question: {question}\\n\\n\"\n",
    "    )\n",
    "    \n",
    "    # Generate the SQL query\n",
    "    response = co.generate(\n",
    "        model='command',\n",
    "        prompt=prompt,\n",
    "        max_tokens=50,\n",
    "        stop_sequences=[\";\"]  # Stop processing at the semicolon\n",
    "    )\n",
    "    \n",
    "    # Ensure the response contains only the SQL query\n",
    "    sql_query = response.generations[0].text.strip()\n",
    "    return sql_query + \";\"  # Append a semicolon for valid SQL if it gets trimmed\n",
    "\n",
    "# Function to execute the SQL query\n",
    "def execute_sql_query(conn, sql_query):\n",
    "    cursor = conn.cursor()\n",
    "    try:\n",
    "        cursor.execute(sql_query)\n",
    "        \n",
    "        # Check if the query returned any results\n",
    "        if cursor.description:\n",
    "            result = cursor.fetchall()  # Fetch all results if any rows are returned\n",
    "        else:\n",
    "            result = cursor.rowcount  # For DML queries (insert/update/delete)\n",
    "        conn.commit()  # Commit the changes after executing the query\n",
    "        return result\n",
    "    except Exception as e:\n",
    "        conn.rollback()  # Rollback in case of error\n",
    "        return f\"Error executing query: {e}\"\n",
    "\n",
    "# Function to generate and execute SQL query, then return the result\n",
    "def answer_question(conn, question):\n",
    "    # Generate SQL query\n",
    "    sql_query = generate_sql_query(question)\n",
    "    print(f\"Generated SQL Query: {sql_query}\")  # For debugging purposes\n",
    "\n",
    "    # Execute the query and fetch results\n",
    "    result = execute_sql_query(conn, sql_query)\n",
    "    \n",
    "    # Format and return results\n",
    "    if isinstance(result, list):  # SELECT query result\n",
    "        formatted_result = \"\\n\".join(\", \".join(map(str, row)) for row in result)\n",
    "        return formatted_result\n",
    "    elif isinstance(result, int):  # Affected rows for DML queries\n",
    "        return f\"Query affected {result} rows.\"\n",
    "    else:  # Error or unexpected output\n",
    "        return result\n",
    "\n",
    "# Main program loop for user interaction\n",
    "def main(conn):\n",
    "    print(\"Welcome to the SQL Query Assistant! Ask anything you want to fetch?\")\n",
    "    try:\n",
    "        while True:\n",
    "            question = input(\"\\nEnter your question (or type 'exit' to quit): \")\n",
    "            if question.lower() == 'exit':\n",
    "                print(\"Goodbye!\")\n",
    "                break\n",
    "            answer = answer_question(conn, question)\n",
    "            print(\"Answer:\", answer)\n",
    "    except Exception as e:\n",
    "        print(f\"Error: {e}\")"
   ]
  },
  {
   "cell_type": "markdown",
   "id": "700b2142",
   "metadata": {},
   "source": [
    "## Calling the function to ask questions from the user and gets answers accordingly"
   ]
  },
  {
   "cell_type": "code",
   "execution_count": 12,
   "id": "f30593ba",
   "metadata": {},
   "outputs": [
    {
     "name": "stdout",
     "output_type": "stream",
     "text": [
      "Welcome to the SQL Query Assistant! Ask anything you want to fetch?\n",
      "\n",
      "Enter your question (or type 'exit' to quit): What is the maximum amount paid?\n",
      "Generated SQL Query: SELECT MAX(amount) FROM transactions WHERE type = 'DR';;\n",
      "Answer: 8120.00\n",
      "\n",
      "Enter your question (or type 'exit' to quit): What is the average transaction amount for every month?\n",
      "Generated SQL Query: SELECT date_trunc('month', date) AS month, AVG(amount) AS avg_amount\n",
      "FROM transactions\n",
      "GROUP BY date_trunc('month', date);;\n",
      "Answer: 2024-09-01 00:00:00+05:30, 778.5830120481927711\n",
      "2024-10-01 00:00:00+05:30, 580.0946031746031746\n",
      "2024-11-01 00:00:00+05:30, 269.7516666666666667\n",
      "2024-08-01 00:00:00+05:30, 259.5000000000000000\n",
      "\n",
      "Enter your question (or type 'exit' to quit): Any transactions between subhraneil?\n",
      "Generated SQL Query: SELECT * FROM transactions WHERE description LIKE '%subhraneil%';\n",
      "Answer: 2024-11-17, UPI/subhraneil2002@/UPI/HDFC BANK LTD/432219065745/HDF26f9d9484\n",
      "a3d4c879428072b9fd1adee, 261.00, CR\n",
      "2024-11-06, UPI/subhraneil2002@/UPI/HDFC BANK LTD/431148943962/HDF34fa2df5d\n",
      "7334fb5b0eb9492499fbcf3, 106.67, CR\n",
      "2024-10-27, UPI/subhraneil2002@/UPI/HDFC BANK LTD/466795357057/ICI9c938bf695\n",
      "c94481863d719bbf61b7e9/, 229.66, DR\n",
      "2024-10-07, UPI/subhraneil2002@/UPI/HDFC BANK LTD/428126126385/HDFac6f1a70f\n",
      "cc149b9a39f477bfdec04c6, 40.00, CR\n",
      "2024-10-04, UPI/subhraneil2002@/UPI/HDFC BANK LTD/427836520658/ICI8f06e8bed6\n",
      "7e4ac6bed0a80181d38cdb/, 157.50, DR\n",
      "2024-09-14, UPI/subhraneil2002@/UPI/HDFC BANK LTD/462458995438/ICI2017b313e\n",
      "61a4beca90c54efad428a3e/, 84.95, DR\n",
      "2024-09-03, UPI/subhraneil2002@/UPI/HDFC BANK LTD/424727252053/HDF99834671\n",
      "743c415d925d063cbac289aa, 628.91, CR\n",
      "\n",
      "Enter your question (or type 'exit' to quit): Total amount received from description having Manasi\n",
      "Generated SQL Query: SELECT SUM(amount) FROM transactions WHERE description ~* 'Manasi';;\n",
      "Answer: 43820.00\n",
      "\n",
      "Enter your question (or type 'exit' to quit): Total amount debited last month\n",
      "Generated SQL Query: SELECT SUM(amount) AS total_debited \n",
      "   FROM transactions \n",
      "   WHERE date >= date_trunc('month', current_date) - interval '1 month' \n",
      "   AND type = 'DR';;\n",
      "Answer: 25352.57\n",
      "\n",
      "Enter your question (or type 'exit' to quit): exit\n",
      "Goodbye!\n"
     ]
    }
   ],
   "source": [
    "# Run the main program\n",
    "if __name__ == \"__main__\":\n",
    "    # Database connection setup (replace with your database credentials)\n",
    "    try:\n",
    "        main(conn)\n",
    "    finally:\n",
    "        conn.close()  # Ensure the database connection is closed properly only after exiting the program"
   ]
  }
 ],
 "metadata": {
  "kernelspec": {
   "display_name": "Python 3 (ipykernel)",
   "language": "python",
   "name": "python3"
  },
  "language_info": {
   "codemirror_mode": {
    "name": "ipython",
    "version": 3
   },
   "file_extension": ".py",
   "mimetype": "text/x-python",
   "name": "python",
   "nbconvert_exporter": "python",
   "pygments_lexer": "ipython3",
   "version": "3.9.18"
  }
 },
 "nbformat": 4,
 "nbformat_minor": 5
}
